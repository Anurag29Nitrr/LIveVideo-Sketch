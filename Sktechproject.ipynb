{
 "cells": [
  {
   "cell_type": "code",
   "execution_count": 3,
   "id": "5a31c11e-ba22-42ce-aa27-99cf6a974052",
   "metadata": {},
   "outputs": [],
   "source": [
    "import cv2\n",
    " \n",
    "def sketch(image):\n",
    "    img_gray = cv2.cvtColor(image, cv2.COLOR_BGR2GRAY)\n",
    "     \n",
    "    img_gray_blur = cv2.GaussianBlur(img_gray, (5,5), 0)\n",
    "     \n",
    "    canny_edges = cv2.Canny(img_gray_blur, 60, 90)\n",
    "     \n",
    "    return canny_edges\n",
    " \n",
    "cap = cv2.VideoCapture(0)\n",
    " \n",
    "while True:\n",
    "    responce, frame = cap.read()\n",
    "     \n",
    "    if responce == False:\n",
    "        break\n",
    "     \n",
    "    cv2.imshow('Live Sketch Drawing', sketch(frame))\n",
    "     \n",
    "    if cv2.waitKey(1) & 0xFF == ord('q'): \n",
    "        break\n",
    "         \n",
    "cap.release()\n",
    "cv2.destroyAllWindows()    "
   ]
  },
  {
   "cell_type": "code",
   "execution_count": null,
   "id": "3ded8381-5171-4742-a612-6156cea437f7",
   "metadata": {},
   "outputs": [],
   "source": []
  }
 ],
 "metadata": {
  "kernelspec": {
   "display_name": "Python 3 (ipykernel)",
   "language": "python",
   "name": "python3"
  },
  "language_info": {
   "codemirror_mode": {
    "name": "ipython",
    "version": 3
   },
   "file_extension": ".py",
   "mimetype": "text/x-python",
   "name": "python",
   "nbconvert_exporter": "python",
   "pygments_lexer": "ipython3",
   "version": "3.12.1"
  }
 },
 "nbformat": 4,
 "nbformat_minor": 5
}
